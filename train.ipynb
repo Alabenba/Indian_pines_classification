{
 "cells": [
  {
   "cell_type": "code",
   "execution_count": 1,
   "metadata": {},
   "outputs": [
    {
     "name": "stderr",
     "output_type": "stream",
     "text": [
      "Using TensorFlow backend.\n"
     ]
    }
   ],
   "source": [
    "import numpy as np\n",
    "import scipy\n",
    "import os\n",
    "from keras.models import Sequential\n",
    "from keras.layers import Dense, Dropout, Flatten\n",
    "from keras.layers import Conv2D, MaxPooling2D\n",
    "from keras.optimizers import SGD\n",
    "from keras import backend as K\n",
    "K.set_image_dim_ordering('th')\n",
    "from keras.utils import np_utils\n",
    "#from sklearn.cross_validation import StratifiedKFold"
   ]
  },
  {
   "cell_type": "code",
   "execution_count": 2,
   "metadata": {},
   "outputs": [
    {
     "name": "stdout",
     "output_type": "stream",
     "text": [
      "/home/danquxunhuan/course/prml/lab2/Indian_pines_classification\n"
     ]
    }
   ],
   "source": [
    "PATH = os.getcwd()\n",
    "print (PATH)"
   ]
  },
  {
   "cell_type": "code",
   "execution_count": 3,
   "metadata": {},
   "outputs": [],
   "source": [
    "# Global Variables\n",
    "windowSize = 5\n",
    "numPCAcomponents = 30\n",
    "testRatio = 0.25"
   ]
  },
  {
   "cell_type": "markdown",
   "metadata": {},
   "source": [
    "# Load Training Dataset"
   ]
  },
  {
   "cell_type": "code",
   "execution_count": 4,
   "metadata": {},
   "outputs": [],
   "source": [
    "X_train = np.load(\"./predata/XtrainWindowSize\" \n",
    "                  + str(windowSize) + \"PCA\" + str(numPCAcomponents) + \"testRatio\" + str(testRatio)  + \".npy\")\n",
    "\n",
    "y_train = np.load(\"./predata/ytrainWindowSize\" \n",
    "                  + str(windowSize) + \"PCA\" + str(numPCAcomponents) + \"testRatio\" + str(testRatio) + \".npy\")"
   ]
  },
  {
   "cell_type": "code",
   "execution_count": 5,
   "metadata": {},
   "outputs": [],
   "source": [
    "# Reshape into (numberofsumples, channels, height, width)\n",
    "X_train = np.reshape(X_train, (X_train.shape[0],X_train.shape[3], X_train.shape[1], X_train.shape[2]))"
   ]
  },
  {
   "cell_type": "code",
   "execution_count": 6,
   "metadata": {},
   "outputs": [],
   "source": [
    "# convert class labels to on-hot encoding\n",
    "y_train = np_utils.to_categorical(y_train)"
   ]
  },
  {
   "cell_type": "code",
   "execution_count": 7,
   "metadata": {},
   "outputs": [
    {
     "name": "stdout",
     "output_type": "stream",
     "text": [
      "(30, 5, 5)\n"
     ]
    }
   ],
   "source": [
    "# Define the input shape \n",
    "input_shape= X_train[0].shape\n",
    "print(input_shape)"
   ]
  },
  {
   "cell_type": "code",
   "execution_count": 8,
   "metadata": {},
   "outputs": [],
   "source": [
    "# number of filters\n",
    "C1 = 3*numPCAcomponents"
   ]
  },
  {
   "cell_type": "code",
   "execution_count": 9,
   "metadata": {},
   "outputs": [],
   "source": [
    "# Define the model\n",
    "model = Sequential()\n",
    "\n",
    "model.add(Conv2D(C1, (3, 3), activation='relu', input_shape=input_shape))\n",
    "model.add(Conv2D(3*C1, (3, 3), activation='relu'))\n",
    "model.add(Dropout(0.25))\n",
    "\n",
    "model.add(Flatten())\n",
    "model.add(Dense(6*numPCAcomponents, activation='relu'))\n",
    "model.add(Dropout(0.5))\n",
    "model.add(Dense(16, activation='softmax'))"
   ]
  },
  {
   "cell_type": "code",
   "execution_count": 10,
   "metadata": {},
   "outputs": [],
   "source": [
    "sgd = SGD(lr=0.0001, decay=1e-6, momentum=0.9, nesterov=True)\n",
    "model.compile(loss='categorical_crossentropy', optimizer=sgd, metrics=['accuracy'])"
   ]
  },
  {
   "cell_type": "code",
   "execution_count": 11,
   "metadata": {},
   "outputs": [
    {
     "name": "stdout",
     "output_type": "stream",
     "text": [
      "WARNING:tensorflow:Variable *= will be deprecated. Use variable.assign_mul if you want assignment to the variable value or 'x = x * y' if you want a new python Tensor object.\n",
      "Epoch 1/30\n",
      "30164/30164 [==============================] - 6s 201us/step - loss: 2.4987 - acc: 0.2203\n",
      "Epoch 2/30\n",
      "30164/30164 [==============================] - 5s 166us/step - loss: 1.8668 - acc: 0.4570\n",
      "Epoch 3/30\n",
      "30164/30164 [==============================] - 5s 167us/step - loss: 1.3288 - acc: 0.6234\n",
      "Epoch 4/30\n",
      "30164/30164 [==============================] - 5s 166us/step - loss: 0.9547 - acc: 0.7213\n",
      "Epoch 5/30\n",
      "30164/30164 [==============================] - 5s 168us/step - loss: 0.7392 - acc: 0.7714\n",
      "Epoch 6/30\n",
      "30164/30164 [==============================] - 5s 166us/step - loss: 0.6089 - acc: 0.8083\n",
      "Epoch 7/30\n",
      "30164/30164 [==============================] - 5s 165us/step - loss: 0.5222 - acc: 0.8346\n",
      "Epoch 8/30\n",
      "30164/30164 [==============================] - 5s 165us/step - loss: 0.4563 - acc: 0.8541\n",
      "Epoch 9/30\n",
      "30164/30164 [==============================] - 5s 165us/step - loss: 0.4083 - acc: 0.8690\n",
      "Epoch 10/30\n",
      "30164/30164 [==============================] - 5s 164us/step - loss: 0.3696 - acc: 0.8811\n",
      "Epoch 11/30\n",
      "30164/30164 [==============================] - 5s 166us/step - loss: 0.3360 - acc: 0.8932\n",
      "Epoch 12/30\n",
      "30164/30164 [==============================] - 5s 164us/step - loss: 0.3115 - acc: 0.8991\n",
      "Epoch 13/30\n",
      "30164/30164 [==============================] - 5s 167us/step - loss: 0.2894 - acc: 0.9073\n",
      "Epoch 14/30\n",
      "30164/30164 [==============================] - 5s 166us/step - loss: 0.2650 - acc: 0.9130\n",
      "Epoch 15/30\n",
      "30164/30164 [==============================] - 5s 163us/step - loss: 0.2461 - acc: 0.9206\n",
      "Epoch 16/30\n",
      "30164/30164 [==============================] - 5s 163us/step - loss: 0.2293 - acc: 0.9271\n",
      "Epoch 17/30\n",
      "30164/30164 [==============================] - 5s 171us/step - loss: 0.2178 - acc: 0.9298\n",
      "Epoch 18/30\n",
      "30164/30164 [==============================] - 5s 168us/step - loss: 0.2031 - acc: 0.9358\n",
      "Epoch 19/30\n",
      "30164/30164 [==============================] - 5s 163us/step - loss: 0.1952 - acc: 0.9385\n",
      "Epoch 20/30\n",
      "30164/30164 [==============================] - 5s 165us/step - loss: 0.1854 - acc: 0.9411\n",
      "Epoch 21/30\n",
      "30164/30164 [==============================] - 5s 160us/step - loss: 0.1733 - acc: 0.9455\n",
      "Epoch 22/30\n",
      "30164/30164 [==============================] - 5s 163us/step - loss: 0.1639 - acc: 0.9481\n",
      "Epoch 23/30\n",
      "30164/30164 [==============================] - 5s 165us/step - loss: 0.1554 - acc: 0.9515\n",
      "Epoch 24/30\n",
      "30164/30164 [==============================] - 5s 164us/step - loss: 0.1514 - acc: 0.9523\n",
      "Epoch 25/30\n",
      "30164/30164 [==============================] - 5s 165us/step - loss: 0.1445 - acc: 0.9548\n",
      "Epoch 26/30\n",
      "30164/30164 [==============================] - 5s 163us/step - loss: 0.1357 - acc: 0.9581\n",
      "Epoch 27/30\n",
      "30164/30164 [==============================] - 5s 164us/step - loss: 0.1293 - acc: 0.9595\n",
      "Epoch 28/30\n",
      "30164/30164 [==============================] - 5s 166us/step - loss: 0.1241 - acc: 0.9631\n",
      "Epoch 29/30\n",
      "30164/30164 [==============================] - 5s 163us/step - loss: 0.1168 - acc: 0.9632\n",
      "Epoch 30/30\n",
      "30164/30164 [==============================] - 5s 161us/step - loss: 0.1121 - acc: 0.9655\n"
     ]
    },
    {
     "data": {
      "text/plain": [
       "<keras.callbacks.History at 0x7fda92e96780>"
      ]
     },
     "execution_count": 11,
     "metadata": {},
     "output_type": "execute_result"
    }
   ],
   "source": [
    "model.fit(X_train, y_train, batch_size=32, epochs=30)"
   ]
  },
  {
   "cell_type": "code",
   "execution_count": 12,
   "metadata": {},
   "outputs": [],
   "source": [
    "import h5py\n",
    "from keras.models import load_model"
   ]
  },
  {
   "cell_type": "code",
   "execution_count": 13,
   "metadata": {},
   "outputs": [],
   "source": [
    "model.save('./model/HSI_model_epochs30.h5')"
   ]
  }
 ],
 "metadata": {
  "kernelspec": {
   "display_name": "Python 3.6 with tf",
   "language": "python",
   "name": "tf"
  },
  "language_info": {
   "codemirror_mode": {
    "name": "ipython",
    "version": 3
   },
   "file_extension": ".py",
   "mimetype": "text/x-python",
   "name": "python",
   "nbconvert_exporter": "python",
   "pygments_lexer": "ipython3",
   "version": "3.6.5"
  }
 },
 "nbformat": 4,
 "nbformat_minor": 2
}
